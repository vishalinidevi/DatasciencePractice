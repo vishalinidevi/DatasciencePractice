{
 "cells": [
  {
   "cell_type": "markdown",
   "id": "f7605bac",
   "metadata": {},
   "source": [
    "# Data Science Tools and Ecosystem\n"
   ]
  },
  {
   "cell_type": "markdown",
   "id": "54b152d6",
   "metadata": {},
   "source": [
    "## In this notebook, Data Science Tools and Ecosystem are summarized.\n"
   ]
  },
  {
   "cell_type": "markdown",
   "id": "560f8512",
   "metadata": {},
   "source": [
    "# Data Science Languages\n",
    "\n",
    "Some of the popular languages that Data Scientists use are:\n",
    "\n",
    "1. Python\n",
    "2. R\n",
    "3. SQL\n",
    "4. Julia\n",
    "5. Scala\n"
   ]
  },
  {
   "cell_type": "markdown",
   "id": "7bd4d632",
   "metadata": {},
   "source": [
    "Some of the commonly used libraries used by Data Scientists include:\n",
    "\n",
    "1. NumPy  \n",
    "2. Pandas  \n",
    "3. Matplotlib  \n",
    "4. Scikit-learn  \n",
    "5. TensorFlow  \n",
    "6. PyTorch  \n"
   ]
  },
  {
   "cell_type": "markdown",
   "id": "861e2b42",
   "metadata": {},
   "source": [
    "| Data Science Tools |\n",
    "|--------------------|\n",
    "| Jupyter Notebook  |\n",
    "| RStudio          |\n",
    "| Apache Zeppelin  |\n"
   ]
  },
  {
   "cell_type": "markdown",
   "id": "686e7f1b",
   "metadata": {},
   "source": [
    "### Below are a few examples of evaluating arithmetic expressions in Python\n"
   ]
  },
  {
   "cell_type": "code",
   "execution_count": 7,
   "id": "3c203c2f",
   "metadata": {},
   "outputs": [
    {
     "name": "stdout",
     "output_type": "stream",
     "text": [
      "17\n"
     ]
    }
   ],
   "source": [
    "# This is a simple arithmetic expression to multiply then add integers\n",
    "result = (3 * 4) + 5\n",
    "print(result)  # Expected output: 17\n"
   ]
  },
  {
   "cell_type": "code",
   "execution_count": 8,
   "id": "0fb4d35d",
   "metadata": {},
   "outputs": [
    {
     "name": "stdout",
     "output_type": "stream",
     "text": [
      "3.3333333333333335\n"
     ]
    }
   ],
   "source": [
    "# This will convert 200 minutes to hours by dividing by 60\n",
    "hours = 200 / 60\n",
    "print(hours)  # Expected output: 3.33 (approximately)\n"
   ]
  },
  {
   "cell_type": "markdown",
   "id": "808f6c28",
   "metadata": {},
   "source": [
    "**Objectives:**\n",
    "\n",
    "- List popular languages for Data Science  \n",
    "- Identify commonly used Data Science libraries  \n",
    "- Introduce key Data Science tools  \n",
    "- Perform basic arithmetic operations in Python  \n",
    "- Convert units (e.g., minutes to hours) using Python expressions  \n"
   ]
  },
  {
   "cell_type": "markdown",
   "id": "6ff80f4f",
   "metadata": {},
   "source": [
    "## Author\n",
    "\n",
    "    Vishalini Devi R.\n"
   ]
  },
  {
   "cell_type": "code",
   "execution_count": null,
   "id": "f5659f7c",
   "metadata": {},
   "outputs": [],
   "source": []
  }
 ],
 "metadata": {
  "kernelspec": {
   "display_name": "Python 3",
   "language": "python",
   "name": "python3"
  },
  "language_info": {
   "codemirror_mode": {
    "name": "ipython",
    "version": 3
   },
   "file_extension": ".py",
   "mimetype": "text/x-python",
   "name": "python",
   "nbconvert_exporter": "python",
   "pygments_lexer": "ipython3",
   "version": "3.8.8"
  }
 },
 "nbformat": 4,
 "nbformat_minor": 5
}
